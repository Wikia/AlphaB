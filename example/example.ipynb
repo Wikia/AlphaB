{
 "cells": [
  {
   "cell_type": "markdown",
   "metadata": {
    "collapsed": true
   },
   "source": [
    "# Use case for AlphaB library\n",
    "\n",
    "This notebook showcases the data analysis possibilities of the [AlphaB library](https://github.com/Wikia/AlphaB) and compares it to a manual approach.\n",
    "\n",
    "## About the dataset\n",
    "\n",
    "The dataset used for this purpose: https://www.kaggle.com/samtyagi/audacity-ab-testing\n",
    "\n",
    "Columns:\n",
    "* timestamp\n",
    "* id\n",
    "* group (control, experiment)\n",
    "* action (click, view)\n",
    "\n",
    "\n",
    "Metrics chosen for this analysis:\n",
    "\n",
    "* Number of views by groups (each day)\n",
    "* Number of clicks by groups (each day)"
   ]
  },
  {
   "cell_type": "code",
   "execution_count": 23,
   "metadata": {},
   "outputs": [],
   "source": [
    "# Imports\n",
    "from alphab import BucketTest\n",
    "\n",
    "import pandas as pd\n",
    "import matplotlib.pyplot as plt\n",
    "import seaborn as sns\n",
    "import warnings\n",
    "from math import pi\n",
    "import matplotlib.colors as mcolors\n",
    "from scipy import stats\n",
    "\n",
    "from csv import reader\n",
    "import pandas as pd\n",
    "import matplotlib.dates as mdates\n",
    "import numpy as np\n",
    "from pathlib import Path\n",
    "from pandas.plotting import register_matplotlib_converters\n",
    "register_matplotlib_converters()\n",
    "from pysankey import sankey\n",
    "\n",
    "from scipy.stats import shapiro\n",
    "from scipy.stats import ttest_ind\n",
    "from scipy.stats import f\n",
    "from scipy.stats import mannwhitneyu\n",
    "\n",
    "import datetime as dt\n",
    "from datetime import timedelta\n",
    "\n",
    "# Get the data\n",
    "df = open('example_dataset.csv')\n",
    "df = pd.read_csv('example_dataset.csv')\n",
    "\n",
    "\n",
    "sns.set()"
   ]
  },
  {
   "cell_type": "code",
   "execution_count": 24,
   "metadata": {},
   "outputs": [
    {
     "data": {
      "text/html": [
       "<div>\n",
       "<style scoped>\n",
       "    .dataframe tbody tr th:only-of-type {\n",
       "        vertical-align: middle;\n",
       "    }\n",
       "\n",
       "    .dataframe tbody tr th {\n",
       "        vertical-align: top;\n",
       "    }\n",
       "\n",
       "    .dataframe thead th {\n",
       "        text-align: right;\n",
       "    }\n",
       "</style>\n",
       "<table border=\"1\" class=\"dataframe\">\n",
       "  <thead>\n",
       "    <tr style=\"text-align: right;\">\n",
       "      <th></th>\n",
       "      <th>timestamp</th>\n",
       "      <th>id</th>\n",
       "      <th>group</th>\n",
       "      <th>action</th>\n",
       "    </tr>\n",
       "  </thead>\n",
       "  <tbody>\n",
       "    <tr>\n",
       "      <th>0</th>\n",
       "      <td>2016-09-24 17:42:27.839496</td>\n",
       "      <td>804196</td>\n",
       "      <td>experiment</td>\n",
       "      <td>view</td>\n",
       "    </tr>\n",
       "    <tr>\n",
       "      <th>1</th>\n",
       "      <td>2016-09-24 19:19:03.542569</td>\n",
       "      <td>434745</td>\n",
       "      <td>experiment</td>\n",
       "      <td>view</td>\n",
       "    </tr>\n",
       "    <tr>\n",
       "      <th>2</th>\n",
       "      <td>2016-09-24 19:36:00.944135</td>\n",
       "      <td>507599</td>\n",
       "      <td>experiment</td>\n",
       "      <td>view</td>\n",
       "    </tr>\n",
       "    <tr>\n",
       "      <th>3</th>\n",
       "      <td>2016-09-24 19:59:02.646620</td>\n",
       "      <td>671993</td>\n",
       "      <td>control</td>\n",
       "      <td>view</td>\n",
       "    </tr>\n",
       "    <tr>\n",
       "      <th>4</th>\n",
       "      <td>2016-09-24 20:26:14.466886</td>\n",
       "      <td>536734</td>\n",
       "      <td>experiment</td>\n",
       "      <td>view</td>\n",
       "    </tr>\n",
       "  </tbody>\n",
       "</table>\n",
       "</div>"
      ],
      "text/plain": [
       "                    timestamp      id       group action\n",
       "0  2016-09-24 17:42:27.839496  804196  experiment   view\n",
       "1  2016-09-24 19:19:03.542569  434745  experiment   view\n",
       "2  2016-09-24 19:36:00.944135  507599  experiment   view\n",
       "3  2016-09-24 19:59:02.646620  671993     control   view\n",
       "4  2016-09-24 20:26:14.466886  536734  experiment   view"
      ]
     },
     "execution_count": 24,
     "metadata": {},
     "output_type": "execute_result"
    }
   ],
   "source": [
    "# Show data\n",
    "df.head()"
   ]
  },
  {
   "cell_type": "code",
   "execution_count": 25,
   "metadata": {},
   "outputs": [
    {
     "data": {
      "text/plain": [
       "timestamp    object\n",
       "id            int64\n",
       "group        object\n",
       "action       object\n",
       "dtype: object"
      ]
     },
     "execution_count": 25,
     "metadata": {},
     "output_type": "execute_result"
    }
   ],
   "source": [
    "# Check columns' data types\n",
    "df.dtypes"
   ]
  },
  {
   "cell_type": "code",
   "execution_count": 26,
   "metadata": {},
   "outputs": [],
   "source": [
    "# Change data type of the column\n",
    "df['timestamp'] = pd.to_datetime(df['timestamp'])"
   ]
  },
  {
   "cell_type": "code",
   "execution_count": 27,
   "metadata": {},
   "outputs": [
    {
     "data": {
      "text/plain": [
       "timestamp    datetime64[ns]\n",
       "id                    int64\n",
       "group                object\n",
       "action               object\n",
       "dtype: object"
      ]
     },
     "execution_count": 27,
     "metadata": {},
     "output_type": "execute_result"
    }
   ],
   "source": [
    "# Check columns' data types\n",
    "df.dtypes"
   ]
  },
  {
   "cell_type": "code",
   "execution_count": 28,
   "metadata": {},
   "outputs": [],
   "source": [
    "# Skip hours\n",
    "df['timestamp'] = pd.to_datetime(df['timestamp']).dt.floor('d')"
   ]
  },
  {
   "cell_type": "code",
   "execution_count": 29,
   "metadata": {},
   "outputs": [
    {
     "data": {
      "text/html": [
       "<div>\n",
       "<style scoped>\n",
       "    .dataframe tbody tr th:only-of-type {\n",
       "        vertical-align: middle;\n",
       "    }\n",
       "\n",
       "    .dataframe tbody tr th {\n",
       "        vertical-align: top;\n",
       "    }\n",
       "\n",
       "    .dataframe thead th {\n",
       "        text-align: right;\n",
       "    }\n",
       "</style>\n",
       "<table border=\"1\" class=\"dataframe\">\n",
       "  <thead>\n",
       "    <tr style=\"text-align: right;\">\n",
       "      <th></th>\n",
       "      <th>timestamp</th>\n",
       "      <th>id</th>\n",
       "      <th>group</th>\n",
       "      <th>action</th>\n",
       "    </tr>\n",
       "  </thead>\n",
       "  <tbody>\n",
       "    <tr>\n",
       "      <th>0</th>\n",
       "      <td>2016-09-24</td>\n",
       "      <td>804196</td>\n",
       "      <td>experiment</td>\n",
       "      <td>view</td>\n",
       "    </tr>\n",
       "    <tr>\n",
       "      <th>1</th>\n",
       "      <td>2016-09-24</td>\n",
       "      <td>434745</td>\n",
       "      <td>experiment</td>\n",
       "      <td>view</td>\n",
       "    </tr>\n",
       "    <tr>\n",
       "      <th>2</th>\n",
       "      <td>2016-09-24</td>\n",
       "      <td>507599</td>\n",
       "      <td>experiment</td>\n",
       "      <td>view</td>\n",
       "    </tr>\n",
       "    <tr>\n",
       "      <th>3</th>\n",
       "      <td>2016-09-24</td>\n",
       "      <td>671993</td>\n",
       "      <td>control</td>\n",
       "      <td>view</td>\n",
       "    </tr>\n",
       "    <tr>\n",
       "      <th>4</th>\n",
       "      <td>2016-09-24</td>\n",
       "      <td>536734</td>\n",
       "      <td>experiment</td>\n",
       "      <td>view</td>\n",
       "    </tr>\n",
       "  </tbody>\n",
       "</table>\n",
       "</div>"
      ],
      "text/plain": [
       "   timestamp      id       group action\n",
       "0 2016-09-24  804196  experiment   view\n",
       "1 2016-09-24  434745  experiment   view\n",
       "2 2016-09-24  507599  experiment   view\n",
       "3 2016-09-24  671993     control   view\n",
       "4 2016-09-24  536734  experiment   view"
      ]
     },
     "execution_count": 29,
     "metadata": {},
     "output_type": "execute_result"
    }
   ],
   "source": [
    "# Show data\n",
    "df.head()"
   ]
  },
  {
   "cell_type": "code",
   "execution_count": 30,
   "metadata": {},
   "outputs": [
    {
     "data": {
      "text/plain": [
       "(1999, 4)"
      ]
     },
     "execution_count": 30,
     "metadata": {},
     "output_type": "execute_result"
    }
   ],
   "source": [
    "# Show number of rows and columns\n",
    "df.shape"
   ]
  },
  {
   "cell_type": "code",
   "execution_count": 31,
   "metadata": {},
   "outputs": [
    {
     "data": {
      "text/html": [
       "<div>\n",
       "<style scoped>\n",
       "    .dataframe tbody tr th:only-of-type {\n",
       "        vertical-align: middle;\n",
       "    }\n",
       "\n",
       "    .dataframe tbody tr th {\n",
       "        vertical-align: top;\n",
       "    }\n",
       "\n",
       "    .dataframe thead th {\n",
       "        text-align: right;\n",
       "    }\n",
       "</style>\n",
       "<table border=\"1\" class=\"dataframe\">\n",
       "  <thead>\n",
       "    <tr style=\"text-align: right;\">\n",
       "      <th></th>\n",
       "      <th>timestamp</th>\n",
       "      <th>id</th>\n",
       "      <th>group</th>\n",
       "      <th>action</th>\n",
       "    </tr>\n",
       "  </thead>\n",
       "  <tbody>\n",
       "    <tr>\n",
       "      <th>0</th>\n",
       "      <td>2016-09-24</td>\n",
       "      <td>804196</td>\n",
       "      <td>B</td>\n",
       "      <td>view</td>\n",
       "    </tr>\n",
       "    <tr>\n",
       "      <th>1</th>\n",
       "      <td>2016-09-24</td>\n",
       "      <td>434745</td>\n",
       "      <td>B</td>\n",
       "      <td>view</td>\n",
       "    </tr>\n",
       "    <tr>\n",
       "      <th>2</th>\n",
       "      <td>2016-09-24</td>\n",
       "      <td>507599</td>\n",
       "      <td>B</td>\n",
       "      <td>view</td>\n",
       "    </tr>\n",
       "    <tr>\n",
       "      <th>3</th>\n",
       "      <td>2016-09-24</td>\n",
       "      <td>671993</td>\n",
       "      <td>A</td>\n",
       "      <td>view</td>\n",
       "    </tr>\n",
       "    <tr>\n",
       "      <th>4</th>\n",
       "      <td>2016-09-24</td>\n",
       "      <td>536734</td>\n",
       "      <td>B</td>\n",
       "      <td>view</td>\n",
       "    </tr>\n",
       "  </tbody>\n",
       "</table>\n",
       "</div>"
      ],
      "text/plain": [
       "   timestamp      id group action\n",
       "0 2016-09-24  804196     B   view\n",
       "1 2016-09-24  434745     B   view\n",
       "2 2016-09-24  507599     B   view\n",
       "3 2016-09-24  671993     A   view\n",
       "4 2016-09-24  536734     B   view"
      ]
     },
     "execution_count": 31,
     "metadata": {},
     "output_type": "execute_result"
    }
   ],
   "source": [
    "# Change group column values\n",
    "df['group'] = df['group'].apply(lambda x: 'A' if x == 'control' else 'B')\n",
    "df.head()"
   ]
  },
  {
   "cell_type": "code",
   "execution_count": 32,
   "metadata": {},
   "outputs": [
    {
     "data": {
      "text/html": [
       "<div>\n",
       "<style scoped>\n",
       "    .dataframe tbody tr th:only-of-type {\n",
       "        vertical-align: middle;\n",
       "    }\n",
       "\n",
       "    .dataframe tbody tr th {\n",
       "        vertical-align: top;\n",
       "    }\n",
       "\n",
       "    .dataframe thead th {\n",
       "        text-align: right;\n",
       "    }\n",
       "</style>\n",
       "<table border=\"1\" class=\"dataframe\">\n",
       "  <thead>\n",
       "    <tr style=\"text-align: right;\">\n",
       "      <th></th>\n",
       "      <th>timestamp</th>\n",
       "      <th>id</th>\n",
       "      <th>group</th>\n",
       "      <th>action</th>\n",
       "      <th>impressions</th>\n",
       "    </tr>\n",
       "  </thead>\n",
       "  <tbody>\n",
       "    <tr>\n",
       "      <th>0</th>\n",
       "      <td>2016-09-24</td>\n",
       "      <td>804196</td>\n",
       "      <td>B</td>\n",
       "      <td>view</td>\n",
       "      <td>1</td>\n",
       "    </tr>\n",
       "    <tr>\n",
       "      <th>1</th>\n",
       "      <td>2016-09-24</td>\n",
       "      <td>434745</td>\n",
       "      <td>B</td>\n",
       "      <td>view</td>\n",
       "      <td>1</td>\n",
       "    </tr>\n",
       "    <tr>\n",
       "      <th>2</th>\n",
       "      <td>2016-09-24</td>\n",
       "      <td>507599</td>\n",
       "      <td>B</td>\n",
       "      <td>view</td>\n",
       "      <td>1</td>\n",
       "    </tr>\n",
       "    <tr>\n",
       "      <th>3</th>\n",
       "      <td>2016-09-24</td>\n",
       "      <td>671993</td>\n",
       "      <td>A</td>\n",
       "      <td>view</td>\n",
       "      <td>1</td>\n",
       "    </tr>\n",
       "    <tr>\n",
       "      <th>4</th>\n",
       "      <td>2016-09-24</td>\n",
       "      <td>536734</td>\n",
       "      <td>B</td>\n",
       "      <td>view</td>\n",
       "      <td>1</td>\n",
       "    </tr>\n",
       "  </tbody>\n",
       "</table>\n",
       "</div>"
      ],
      "text/plain": [
       "   timestamp      id group action impressions\n",
       "0 2016-09-24  804196     B   view           1\n",
       "1 2016-09-24  434745     B   view           1\n",
       "2 2016-09-24  507599     B   view           1\n",
       "3 2016-09-24  671993     A   view           1\n",
       "4 2016-09-24  536734     B   view           1"
      ]
     },
     "execution_count": 32,
     "metadata": {},
     "output_type": "execute_result"
    }
   ],
   "source": [
    "# Create impression column\n",
    "df['impressions'] = df['action'].apply(lambda x: '1' if x == 'view' else '0')\n",
    "df.head()"
   ]
  },
  {
   "cell_type": "code",
   "execution_count": 33,
   "metadata": {},
   "outputs": [
    {
     "data": {
      "text/html": [
       "<div>\n",
       "<style scoped>\n",
       "    .dataframe tbody tr th:only-of-type {\n",
       "        vertical-align: middle;\n",
       "    }\n",
       "\n",
       "    .dataframe tbody tr th {\n",
       "        vertical-align: top;\n",
       "    }\n",
       "\n",
       "    .dataframe thead th {\n",
       "        text-align: right;\n",
       "    }\n",
       "</style>\n",
       "<table border=\"1\" class=\"dataframe\">\n",
       "  <thead>\n",
       "    <tr style=\"text-align: right;\">\n",
       "      <th></th>\n",
       "      <th>timestamp</th>\n",
       "      <th>id</th>\n",
       "      <th>group</th>\n",
       "      <th>action</th>\n",
       "      <th>impressions</th>\n",
       "      <th>click</th>\n",
       "    </tr>\n",
       "  </thead>\n",
       "  <tbody>\n",
       "    <tr>\n",
       "      <th>0</th>\n",
       "      <td>2016-09-24</td>\n",
       "      <td>804196</td>\n",
       "      <td>B</td>\n",
       "      <td>view</td>\n",
       "      <td>1</td>\n",
       "      <td>0</td>\n",
       "    </tr>\n",
       "    <tr>\n",
       "      <th>1</th>\n",
       "      <td>2016-09-24</td>\n",
       "      <td>434745</td>\n",
       "      <td>B</td>\n",
       "      <td>view</td>\n",
       "      <td>1</td>\n",
       "      <td>0</td>\n",
       "    </tr>\n",
       "    <tr>\n",
       "      <th>2</th>\n",
       "      <td>2016-09-24</td>\n",
       "      <td>507599</td>\n",
       "      <td>B</td>\n",
       "      <td>view</td>\n",
       "      <td>1</td>\n",
       "      <td>0</td>\n",
       "    </tr>\n",
       "    <tr>\n",
       "      <th>3</th>\n",
       "      <td>2016-09-24</td>\n",
       "      <td>671993</td>\n",
       "      <td>A</td>\n",
       "      <td>view</td>\n",
       "      <td>1</td>\n",
       "      <td>0</td>\n",
       "    </tr>\n",
       "    <tr>\n",
       "      <th>4</th>\n",
       "      <td>2016-09-24</td>\n",
       "      <td>536734</td>\n",
       "      <td>B</td>\n",
       "      <td>view</td>\n",
       "      <td>1</td>\n",
       "      <td>0</td>\n",
       "    </tr>\n",
       "    <tr>\n",
       "      <th>5</th>\n",
       "      <td>2016-09-24</td>\n",
       "      <td>681598</td>\n",
       "      <td>B</td>\n",
       "      <td>view</td>\n",
       "      <td>1</td>\n",
       "      <td>0</td>\n",
       "    </tr>\n",
       "    <tr>\n",
       "      <th>6</th>\n",
       "      <td>2016-09-24</td>\n",
       "      <td>522116</td>\n",
       "      <td>B</td>\n",
       "      <td>view</td>\n",
       "      <td>1</td>\n",
       "      <td>0</td>\n",
       "    </tr>\n",
       "    <tr>\n",
       "      <th>7</th>\n",
       "      <td>2016-09-24</td>\n",
       "      <td>349125</td>\n",
       "      <td>B</td>\n",
       "      <td>view</td>\n",
       "      <td>1</td>\n",
       "      <td>0</td>\n",
       "    </tr>\n",
       "    <tr>\n",
       "      <th>8</th>\n",
       "      <td>2016-09-24</td>\n",
       "      <td>349125</td>\n",
       "      <td>B</td>\n",
       "      <td>click</td>\n",
       "      <td>0</td>\n",
       "      <td>1</td>\n",
       "    </tr>\n",
       "    <tr>\n",
       "      <th>9</th>\n",
       "      <td>2016-09-24</td>\n",
       "      <td>560027</td>\n",
       "      <td>A</td>\n",
       "      <td>view</td>\n",
       "      <td>1</td>\n",
       "      <td>0</td>\n",
       "    </tr>\n",
       "  </tbody>\n",
       "</table>\n",
       "</div>"
      ],
      "text/plain": [
       "   timestamp      id group action impressions click\n",
       "0 2016-09-24  804196     B   view           1     0\n",
       "1 2016-09-24  434745     B   view           1     0\n",
       "2 2016-09-24  507599     B   view           1     0\n",
       "3 2016-09-24  671993     A   view           1     0\n",
       "4 2016-09-24  536734     B   view           1     0\n",
       "5 2016-09-24  681598     B   view           1     0\n",
       "6 2016-09-24  522116     B   view           1     0\n",
       "7 2016-09-24  349125     B   view           1     0\n",
       "8 2016-09-24  349125     B  click           0     1\n",
       "9 2016-09-24  560027     A   view           1     0"
      ]
     },
     "execution_count": 33,
     "metadata": {},
     "output_type": "execute_result"
    }
   ],
   "source": [
    "# Create click column\n",
    "df['click'] = df['action'].apply(lambda x: '1' if x == 'click' else '0')\n",
    "df.head(10)"
   ]
  },
  {
   "cell_type": "code",
   "execution_count": 34,
   "metadata": {},
   "outputs": [
    {
     "data": {
      "text/plain": [
       "timestamp      datetime64[ns]\n",
       "id                      int64\n",
       "group                  object\n",
       "action                 object\n",
       "impressions            object\n",
       "click                  object\n",
       "dtype: object"
      ]
     },
     "execution_count": 34,
     "metadata": {},
     "output_type": "execute_result"
    }
   ],
   "source": [
    "# Show data\n",
    "df.dtypes"
   ]
  },
  {
   "cell_type": "code",
   "execution_count": 35,
   "metadata": {},
   "outputs": [
    {
     "data": {
      "text/plain": [
       "timestamp      datetime64[ns]\n",
       "id                      int64\n",
       "group                  object\n",
       "action                 object\n",
       "impressions             int64\n",
       "click                   int64\n",
       "dtype: object"
      ]
     },
     "execution_count": 35,
     "metadata": {},
     "output_type": "execute_result"
    }
   ],
   "source": [
    "# Change data types for impressions and clicks\n",
    "df[['impressions', 'click']] = df[['impressions', 'click']].astype(int)\n",
    "df.dtypes"
   ]
  },
  {
   "cell_type": "code",
   "execution_count": 36,
   "metadata": {},
   "outputs": [
    {
     "data": {
      "text/plain": [
       "<bound method NDFrame.head of     timestamp group  impressions  click\n",
       "0  2016-09-24     A            2      0\n",
       "1  2016-09-24     B           14      4\n",
       "2  2016-09-25     A           29      9\n",
       "3  2016-09-25     B           29     11\n",
       "4  2016-09-26     A           39     12\n",
       "5  2016-09-26     B           22      9\n",
       "6  2016-09-27     A           30     10\n",
       "7  2016-09-27     B           23      8\n",
       "8  2016-09-28     A           25     12\n",
       "9  2016-09-28     B           28      8\n",
       "10 2016-09-29     A           26     10\n",
       "11 2016-09-29     B           15      4\n",
       "12 2016-09-30     A           28      8\n",
       "13 2016-09-30     B           27      9\n",
       "14 2016-10-01     A           37     10\n",
       "15 2016-10-01     B           29      7\n",
       "16 2016-10-02     A           32      6\n",
       "17 2016-10-02     B           20      7\n",
       "18 2016-10-03     A           30     11\n",
       "19 2016-10-03     B           18      7\n",
       "20 2016-10-04     A           32      7\n",
       "21 2016-10-04     B           20      6\n",
       "22 2016-10-05     A           28      6\n",
       "23 2016-10-05     B           34      9\n",
       "24 2016-10-06     A           27      9\n",
       "25 2016-10-06     B           21      8\n",
       "26 2016-10-07     A           32      9\n",
       "27 2016-10-07     B           26      8\n",
       "28 2016-10-08     A           24      7\n",
       "29 2016-10-08     B           17      7\n",
       "30 2016-10-09     A           33     15\n",
       "31 2016-10-09     B           28      7\n",
       "32 2016-10-10     A           38      8\n",
       "33 2016-10-10     B           29     10\n",
       "34 2016-10-11     A           22      3\n",
       "35 2016-10-11     B           24      3\n",
       "36 2016-10-12     A           26     10\n",
       "37 2016-10-12     B           32      6\n",
       "38 2016-10-13     A           34      8\n",
       "39 2016-10-13     B           30     13\n",
       "40 2016-10-14     A           37     11\n",
       "41 2016-10-14     B           21      8\n",
       "42 2016-10-15     A           22     10\n",
       "43 2016-10-15     B           33     12\n",
       "44 2016-10-16     A           23      2\n",
       "45 2016-10-16     B           27     10\n",
       "46 2016-10-17     A           22      5\n",
       "47 2016-10-17     B           25      7\n",
       "48 2016-10-18     A           34      9\n",
       "49 2016-10-18     B           27      8\n",
       "50 2016-10-19     A           32      6\n",
       "51 2016-10-19     B           21      7\n",
       "52 2016-10-20     A           26      6\n",
       "53 2016-10-20     B           39      9\n",
       "54 2016-10-21     A           33     12\n",
       "55 2016-10-21     B           16      5\n",
       "56 2016-10-22     A           20      9\n",
       "57 2016-10-22     B           18      6>"
      ]
     },
     "execution_count": 36,
     "metadata": {},
     "output_type": "execute_result"
    }
   ],
   "source": [
    "# Group by sum of impressions and clicks\n",
    "df = df.groupby(['timestamp', 'group'])['impressions', 'click'].apply(lambda x : x.astype(int).sum())\n",
    "df = df.reset_index()\n",
    "df.head"
   ]
  },
  {
   "cell_type": "code",
   "execution_count": 37,
   "metadata": {},
   "outputs": [
    {
     "data": {
      "text/plain": [
       "timestamp      datetime64[ns]\n",
       "group                  object\n",
       "impressions             int64\n",
       "click                   int64\n",
       "dtype: object"
      ]
     },
     "execution_count": 37,
     "metadata": {},
     "output_type": "execute_result"
    }
   ],
   "source": [
    "df.dtypes"
   ]
  },
  {
   "cell_type": "markdown",
   "metadata": {},
   "source": [
    "## Analysis using AlphaB"
   ]
  },
  {
   "cell_type": "markdown",
   "metadata": {},
   "source": [
    "### Chart & statistical significance"
   ]
  },
  {
   "cell_type": "code",
   "execution_count": 38,
   "metadata": {},
   "outputs": [
    {
     "data": {
      "image/png": "[encoded data removed]",
      "text/plain": [
       "<Figure size 864x360 with 1 Axes>"
      ]
     },
     "metadata": {},
     "output_type": "display_data"
    },
    {
     "name": "stdout",
     "output_type": "stream",
     "text": [
      "Shapiro group A p-value:  0.0034397966228425503\n",
      "Shapiro group B p-value:  0.7868756055831909\n",
      "F test p-value:  0.8076785889238154\n",
      "Mann-Whitney U test:  0.006637315176844951\n",
      "Statistical significance:  True\n"
     ]
    },
    {
     "data": {
      "text/plain": [
       "<Figure size 432x288 with 0 Axes>"
      ]
     },
     "metadata": {},
     "output_type": "display_data"
    }
   ],
   "source": [
    "# Render chart and pvalues using AlphaB\n",
    "bucket_test = BucketTest(\n",
    "    df=df,\n",
    "    variable='impressions',\n",
    "    group='group',\n",
    "    x_axis='timestamp',\n",
    "    custom_title='Impressions by group',\n",
    "    custom_ylabel='#',\n",
    "    custom_day_interval=5\n",
    ")\n",
    "bucket_test.render()\n",
    "bucket_test.compute_pvalues()"
   ]
  },
  {
   "cell_type": "markdown",
   "metadata": {},
   "source": [
    "## Analysis without using AlphaB"
   ]
  },
  {
   "cell_type": "markdown",
   "metadata": {},
   "source": [
    "### Chart"
   ]
  },
  {
   "cell_type": "code",
   "execution_count": 39,
   "metadata": {},
   "outputs": [
    {
     "data": {
      "image/png": "[encoded data removed]",
      "text/plain": [
       "<Figure size 864x360 with 1 Axes>"
      ]
     },
     "metadata": {},
     "output_type": "display_data"
    }
   ],
   "source": [
    "# Render chart without using AlphaB\n",
    "fig, ax = plt.subplots(figsize=(12, 5))\n",
    "for group_value in df['group'].unique():\n",
    "    df_group = df[df['group'] == group_value]\n",
    "    df_group.set_index('timestamp', drop=False, inplace=True)\n",
    "    ax.plot(df_group['impressions'], label=group_value, linewidth=3)\n",
    "plt.title('Impressions by group', fontsize=16)\n",
    "plt.legend(bbox_to_anchor=(1.3, 0.8), frameon=False, fontsize=14)\n",
    "plt.ylabel('#')\n",
    "plt.ylim(0, )\n",
    "plt.xticks(rotation=30)\n",
    "ax.xaxis.set_major_locator(mdates.DayLocator(interval=5))\n",
    "ax.xaxis.set_major_formatter(mdates.DateFormatter('%Y-%m-%d'))\n",
    "plt.show();"
   ]
  },
  {
   "cell_type": "markdown",
   "metadata": {},
   "source": [
    "### Statistical significance"
   ]
  },
  {
   "cell_type": "code",
   "execution_count": 40,
   "metadata": {},
   "outputs": [],
   "source": [
    "# Assign to variables\n",
    "group_a = df[df['group'] == 'A']['impressions']\n",
    "group_b = df[df['group'] == 'B']['impressions']"
   ]
  },
  {
   "cell_type": "code",
   "execution_count": 41,
   "metadata": {},
   "outputs": [
    {
     "name": "stdout",
     "output_type": "stream",
     "text": [
      "Shapiro group A p-value:  0.0034397966228425503\n",
      "Shapiro group B p-value:  0.7868756055831909\n"
     ]
    }
   ],
   "source": [
    "# Normality test\n",
    "normality_group_a, normality_pvalue_a = shapiro(group_a)\n",
    "normality_group_b, normality_pvalue_b = shapiro(group_b)\n",
    "print('Shapiro group A p-value: ', normality_pvalue_a)\n",
    "print('Shapiro group B p-value: ', normality_pvalue_b)"
   ]
  },
  {
   "cell_type": "code",
   "execution_count": 42,
   "metadata": {},
   "outputs": [
    {
     "name": "stdout",
     "output_type": "stream",
     "text": [
      "F test p-value:  0.8076785889238154\n"
     ]
    }
   ],
   "source": [
    "# Variance\n",
    "F = np.var(group_a) / np.var(group_b)\n",
    "critical_value_group_a = len(group_a) - 1\n",
    "critical_value_group_b = len(group_b) - 1\n",
    "f_pvalue = f.cdf(F, critical_value_group_a, critical_value_group_b)\n",
    "print('F test p-value: ', f_pvalue)"
   ]
  },
  {
   "cell_type": "code",
   "execution_count": 43,
   "metadata": {},
   "outputs": [
    {
     "name": "stdout",
     "output_type": "stream",
     "text": [
      "Mann-Whitney U test:  0.006637315176844951\n",
      "Statistical significance:  True\n"
     ]
    }
   ],
   "source": [
    "# Mann-Whitney test\n",
    "mannwhitneyu_pvalue = mannwhitneyu(group_a, group_b).pvalue\n",
    "print('Mann-Whitney U test: ', mannwhitneyu_pvalue)\n",
    "print(\"Statistical significance: \", mannwhitneyu_pvalue <= 0.01)"
   ]
  },
  {
   "cell_type": "markdown",
   "metadata": {},
   "source": [
    "## AlphaB vs manual approach\n",
    "\n",
    "The charts and statistical significance analysis generated using AlphaB are the same as the once created with a manual approach."
   ]
  }
 ],
 "metadata": {
  "kernelspec": {
   "display_name": "Python 3",
   "language": "python",
   "name": "python3"
  },
  "language_info": {
   "codemirror_mode": {
    "name": "ipython",
    "version": 3
   },
   "file_extension": ".py",
   "mimetype": "text/x-python",
   "name": "python",
   "nbconvert_exporter": "python",
   "pygments_lexer": "ipython3",
   "version": "3.7.4"
  },
  "pycharm": {
   "stem_cell": {
    "cell_type": "raw",
    "metadata": {
     "collapsed": false
    },
    "source": []
   }
  }
 },
 "nbformat": 4,
 "nbformat_minor": 1
}
